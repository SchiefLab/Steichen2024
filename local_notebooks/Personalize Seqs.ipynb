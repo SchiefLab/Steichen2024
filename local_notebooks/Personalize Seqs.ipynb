{
 "cells": [
  {
   "cell_type": "code",
   "execution_count": 18,
   "id": "ddd809b9-2ad4-4a7e-8cc5-069d1315540c",
   "metadata": {},
   "outputs": [],
   "source": [
    "from sadie.reference import Reference, References\n",
    "from sadie.airr import Airr\n",
    "import pandas as pd"
   ]
  },
  {
   "cell_type": "code",
   "execution_count": 2,
   "id": "5ffb4605-09c2-4c74-85d9-6dc3ad8450cb",
   "metadata": {},
   "outputs": [],
   "source": [
    "# get all the data thats unpersonalized\n",
    "all_combined = pd.read_feather(\"../data/all_processed_combined.feather\")"
   ]
  },
  {
   "cell_type": "code",
   "execution_count": 3,
   "id": "d96ee4f0-c74c-4c24-bb84-1a95f39b4cd8",
   "metadata": {},
   "outputs": [],
   "source": [
    "# genotype data per animal\n",
    "genotype = pd.read_excel(\"../data/genotype.xlsx\",index_col=0)"
   ]
  },
  {
   "cell_type": "code",
   "execution_count": 4,
   "id": "46faed42-969d-4a64-8d11-be1ab5f226e1",
   "metadata": {},
   "outputs": [],
   "source": [
    "# our baseline references is all available species we get from our yaml file built into sadie\n",
    "baseline_references: References = References().from_yaml()\n",
    "\n",
    "# now we will get just macaque\n",
    "baseline_macaque: pd.DataFrame = baseline_references.get_dataframe().query(\"name=='macaque'\")\n",
    "\n",
    "# take out D3-41\n",
    "baseline_no_d3_41 = baseline_macaque[baseline_macaque[\"gene\"].str.split(\"*\").str.get(0) != \"IGHD3-41\"].copy()\n",
    "\n",
    "references: References = References()\n",
    "haplotype_df = []\n",
    "\n",
    " # group by allele1 and 2\n",
    "for allele_group, allele_group_df in genotype.groupby([\"allele_1\", \"allele_2\"]):\n",
    "\n",
    "    # the haplotype name will be ex allele1_allele2, eg 02_02\n",
    "    name = \"_\".join(list(map(lambda x: x.split(\"*\")[-1], allele_group)))\n",
    "\n",
    "    # only get the common\n",
    "    need_alleles = list(set(list(allele_group)))\n",
    "\n",
    "    # create a baseline ref with no d3-41\n",
    "    reference = Reference().from_dataframe(baseline_no_d3_41.drop(\"name\", axis=1))\n",
    "\n",
    "    # add each allele one at a time\n",
    "    for needed_allele in need_alleles:\n",
    "        reference.add_gene({\"species\": \"macaque\", \"gene\": needed_allele, \"source\": \"custom\"})\n",
    "    print(f\"adding_references:{name}\")\n",
    "\n",
    "    # add the reference to references with name\n",
    "    references.add_reference(name=name, reference=reference)\n",
    "    allele_group_df[\"haplotype\"] = name\n",
    "    haplotype_df.append(allele_group_df)\n",
    "\n",
    "haplotype_df = pd.concat(haplotype_df).reset_index(drop=True)"
   ]
  },
  {
   "cell_type": "code",
   "execution_count": null,
   "id": "894406bf-e53b-4c3f-a871-6b08479c623e",
   "metadata": {},
   "outputs": [],
   "source": [
    "# personalize by passing references to SADIE we just created\n",
    "personalized_df = []\n",
    "all_combined_index = all_combined.set_index('sequence_id').copy()\n",
    "for haplo, haplot_df in haplotype_df.groupby(\"haplotype\"):\n",
    "    # only get animal_ids of that group\n",
    "    animal_ids = haplot_df[\"animal_id\"].to_list()\n",
    "\n",
    "    # sub df is unblind dataframe with just the subjects of interest\n",
    "    sub_df = all_combined[all_combined[\"NHP\"].isin(animal_ids)]\n",
    "\n",
    "    # make an api call to get the allele\n",
    "    airr_api = Airr(haplo, adaptable=True, references=references)\n",
    "    heavy_airr_df = airr_api.run_dataframe(sub_df, \"sequence_id\", \"sequence_heavy\")\n",
    "    h_ = heavy_airr_df.set_index('sequence_id')\n",
    "    h_.columns = [i + '_heavy' for i in h_.columns]\n",
    "    all_combined_index.update(h_)"
   ]
  },
  {
   "cell_type": "code",
   "execution_count": 64,
   "id": "697b26af-1631-488e-b84f-fc96a7990658",
   "metadata": {},
   "outputs": [
    {
     "data": {
      "text/plain": [
       "macaque              19019\n",
       "01_01                16935\n",
       "01_01_S8240          11230\n",
       "01_S8240_01_S8240     5199\n",
       "Name: reference_name_heavy, dtype: int64"
      ]
     },
     "execution_count": 64,
     "metadata": {},
     "output_type": "execute_result"
    }
   ],
   "source": [
    "all_combined_index['reference_name_heavy'].value_counts()"
   ]
  },
  {
   "cell_type": "code",
   "execution_count": 67,
   "id": "96a23223-d4b8-4622-b07a-d8bb70425a2c",
   "metadata": {},
   "outputs": [],
   "source": [
    "all_combined_index.reset_index().to_feather(\"../data/all_processed_combined_personalized.feather\")"
   ]
  },
  {
   "cell_type": "code",
   "execution_count": 68,
   "id": "53ea8f85-af4d-4f87-be7e-b29172e81020",
   "metadata": {},
   "outputs": [],
   "source": [
    "all_combined_index.reset_index().to_csv(\"../data/all_processed_combined_personalized.csv\")"
   ]
  },
  {
   "cell_type": "code",
   "execution_count": null,
   "id": "b38326b7-9863-4d84-ac8d-88198b4d240c",
   "metadata": {},
   "outputs": [],
   "source": []
  }
 ],
 "metadata": {
  "kernelspec": {
   "display_name": "sadie-dev",
   "language": "python",
   "name": "sadie-dev"
  },
  "language_info": {
   "codemirror_mode": {
    "name": "ipython",
    "version": 3
   },
   "file_extension": ".py",
   "mimetype": "text/x-python",
   "name": "python",
   "nbconvert_exporter": "python",
   "pygments_lexer": "ipython3",
   "version": "3.10.6"
  }
 },
 "nbformat": 4,
 "nbformat_minor": 5
}
