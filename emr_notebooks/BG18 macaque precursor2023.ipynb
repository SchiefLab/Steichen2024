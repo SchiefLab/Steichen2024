{
 "cells": [
  {
   "cell_type": "code",
   "execution_count": null,
   "metadata": {
    "execution": {
     "iopub.execute_input": "2023-06-20T23:39:02.429022Z",
     "iopub.status.busy": "2023-06-20T23:39:02.428653Z",
     "iopub.status.idle": "2023-06-20T23:39:11.727206Z",
     "shell.execute_reply": "2023-06-20T23:39:11.726314Z",
     "shell.execute_reply.started": "2023-06-20T23:39:02.428994Z"
    },
    "tags": []
   },
   "outputs": [],
   "source": [
    "import pandas\n",
    "import re\n",
    "import tempfile\n",
    "import os\n",
    "import gzip\n",
    "import shutil\n",
    "import subprocess\n",
    "from pyspark.sql.functions import udf, col, lit\n",
    "from pyspark.sql import functions as F\n",
    "\n",
    "\"\"\"\n",
    "Import Parquet As a DataFrame\n",
    "\"\"\"\n",
    "\n",
    "#Read in parquet file from public S3 bucket\n",
    "parquet_s3 = \"s3://macaquenaive/parquet/\"\n",
    "df_spark = spark.read.parquet(parquet_s3)\n",
    "\n",
    "##Verify count \n",
    "df_spark.count()"
   ]
  },
  {
   "cell_type": "markdown",
   "metadata": {},
   "source": [
    "## Make a query class\n",
    "The query class can hold our spark query until it's time to execute"
   ]
  },
  {
   "cell_type": "code",
   "execution_count": null,
   "metadata": {
    "execution": {
     "iopub.execute_input": "2023-06-20T23:24:08.732571Z",
     "iopub.status.busy": "2023-06-20T23:24:08.732231Z",
     "iopub.status.idle": "2023-06-20T23:24:44.131174Z",
     "shell.execute_reply": "2023-06-20T23:24:44.130333Z",
     "shell.execute_reply.started": "2023-06-20T23:24:08.732544Z"
    }
   },
   "outputs": [],
   "source": [
    "class Query():\n",
    "    \n",
    "    '''An example query class to hold query parameters'''\n",
    "    \n",
    "    def __init__(self,q_name,length='',d_call_top=\"\",regex=\"\",animal_id=\"\",c_call=\"\",file_name=\"\"):\n",
    "        self.query_name = q_name\n",
    "        self.d_call_top = d_call_top\n",
    "        self.animal_id = animal_id\n",
    "        self.c_call = c_call\n",
    "        self.file_name = file_name\n",
    "        \n",
    "        if not length:\n",
    "            raise Exception(\"Length must be supplied\")\n",
    "        self.length = length\n",
    "        self.regular_expression = regex\n",
    "    \n",
    "    \n",
    "    \n",
    "    def apply(self,df):\n",
    "        \n",
    "        '''Apply function will take in spark dataframe and apply query parameters to it if they exist\n",
    "        \n",
    "           Returns a filtered dataframe\n",
    "        '''\n",
    "        self.queried_dataframe = \"\"\n",
    "        \n",
    "        ##Lets get length\n",
    "        \n",
    "        self.queried_dataframe = df.filter(F.length(df.cdr3_aa) > self.length)\n",
    "        \n",
    "        ##If the rest of these were specified, add them to the filter\n",
    "                   \n",
    "        if self.d_call_top:\n",
    "             self.queried_dataframe = self.queried_dataframe.filter(self.queried_dataframe.d_call_top.rlike(self.d_call_top))\n",
    "                \n",
    "        if self.c_call:\n",
    "            self.queried_dataframe = self.queried_dataframe.filter(self.queried_dataframe.c_call == self.c_call)      \n",
    "\n",
    "        if self.regular_expression:\n",
    "             self.queried_dataframe = self.queried_dataframe.filter(self.queried_dataframe.cdr3_aa.rlike(self.regular_expression))\n",
    "        \n",
    "        if self.animal_id:\n",
    "             self.queried_dataframe = self.queried_dataframe.filter(self.queried_dataframe.animal_id == self.animal_id)\n",
    "                \n",
    "        if self.file_name:\n",
    "             self.queried_dataframe = self.queried_dataframe.filter(self.queried_dataframe.file_name.rlike(self.file_name))\n",
    "                \n",
    "        print(\"Found {} sequences\".format(self.queried_dataframe.count()))\n",
    "        return self.queried_dataframe"
   ]
  },
  {
   "cell_type": "markdown",
   "metadata": {},
   "source": [
    "## These cells search for IgM precursors and calculate the IgM precursor frequencies of all animals with c_call=\"IGHM*03\".\n",
    "However, for dataset of animals RPz18, RGp18, RPb18, and REt18, only IgMs were sorted and sequenced, and some of their c_call reads were incomplete and therefore not reliable.\n",
    "\n",
    "To address this issue, we used these cell to analyze precursor frequencies of all other macaques and analyze these four animals separately."
   ]
  },
  {
   "cell_type": "code",
   "execution_count": null,
   "metadata": {
    "execution": {
     "iopub.execute_input": "2023-06-20T23:24:08.732571Z",
     "iopub.status.busy": "2023-06-20T23:24:08.732231Z",
     "iopub.status.idle": "2023-06-20T23:24:44.131174Z",
     "shell.execute_reply": "2023-06-20T23:24:44.130333Z",
     "shell.execute_reply.started": "2023-06-20T23:24:08.732544Z"
    }
   },
   "outputs": [],
   "source": [
    "my_query_0 = Query('BG18_search.0',length=1,c_call=\"IGHM*03\")\n",
    "my_query_1 = Query('BG18_search.1',length=21,c_call=\"IGHM*03\")\n",
    "my_query_2 = Query('BG18_search.2',d_call_top=r'IGHD3-41',length=21,c_call=\"IGHM*03\")\n",
    "my_query_3 = Query('BG18_search.3',d_call_top=r'IGHD3-41',length=21,regex=r'IFG[VL]',c_call=\"IGHM*03\")\n",
    "my_query_4_7 = Query('BG18_search.4.7',d_call_top=r'IGHD3-41',length=21,regex=r'^.....IFG[VL]',c_call=\"IGHM*03\")\n",
    "my_query_4_8 = Query('BG18_search.4.8',d_call_top=r'IGHD3-41',length=21,regex=r'^......IFG[VL]',c_call=\"IGHM*03\")\n",
    "my_query_4_9 = Query('BG18_search.4.9',d_call_top=r'IGHD3-41',length=21,regex=r'^.......IFG[VL]',c_call=\"IGHM*03\")\n",
    "my_query_5_7 = Query('BG18_search.5.7',d_call_top=r'IGHD3-41',length=21,regex=r'^.....IFG[VL]....E',c_call=\"IGHM*03\")\n",
    "my_query_5_8 = Query('BG18_search.5.8',d_call_top=r'IGHD3-41',length=21,regex=r'^......IFG[VL]....E',c_call=\"IGHM*03\")\n",
    "my_query_5_9 = Query('BG18_search.5.9',d_call_top=r'IGHD3-41',length=21,regex=r'^.......IFG[VL]....E',c_call=\"IGHM*03\")\n",
    "my_query_6 = Query('BG18_search.6',d_call_top=r'IGHD3-41',length=21, regex=r'IFG[VL]....E',c_call=\"IGHM*03\")\n",
    "my_query_7 = Query('BG18_search.7',d_call_top=r'IGHD3-41',length=1,c_call=\"IGHM*03\")\n",
    "\n",
    "#To run query, pass the input object from above to apply\n",
    "\n",
    "queried0_df = my_query_0.apply(df_spark)\n",
    "queried1_df = my_query_1.apply(df_spark)\n",
    "queried2_df = my_query_2.apply(df_spark)\n",
    "queried3_df = my_query_3.apply(df_spark)\n",
    "queried4_7_df = my_query_4_7.apply(df_spark)\n",
    "queried4_8_df = my_query_4_8.apply(df_spark)\n",
    "queried4_9_df = my_query_4_9.apply(df_spark)\n",
    "queried5_7_df = my_query_5_7.apply(df_spark)\n",
    "queried5_8_df = my_query_5_8.apply(df_spark)\n",
    "queried5_9_df = my_query_5_9.apply(df_spark)\n",
    "queried6_df = my_query_6.apply(df_spark)\n",
    "queried7_df = my_query_7.apply(df_spark)"
   ]
  },
  {
   "cell_type": "code",
   "execution_count": null,
   "metadata": {
    "execution": {
     "iopub.execute_input": "2023-05-31T04:38:11.605360Z",
     "iopub.status.busy": "2023-05-31T04:38:11.605040Z"
    },
    "tags": []
   },
   "outputs": [],
   "source": [
    "pandas0_df = queried0_df.select('sequence_id','animal_id').toPandas()\n",
    "pandas1_df = queried1_df.select('sequence_id','animal_id').toPandas()\n",
    "pandas2_df = queried2_df.select('sequence_id','animal_id').toPandas()\n",
    "pandas3_df = queried3_df.select('sequence_id','animal_id').toPandas()\n",
    "pandas47_df = queried4_7_df.select('sequence_id','animal_id').toPandas()\n",
    "pandas48_df = queried4_8_df.select('sequence_id','animal_id').toPandas()\n",
    "pandas49_df = queried4_9_df.select('sequence_id','animal_id').toPandas()\n",
    "pandas57_df = queried5_7_df.select('sequence_id','animal_id').toPandas()\n",
    "pandas58_df = queried5_8_df.select('sequence_id','animal_id').toPandas()\n",
    "pandas59_df = queried5_9_df.select('sequence_id','animal_id').toPandas()\n",
    "pandas6_df = queried6_df.select('sequence_id','animal_id').toPandas()\n",
    "pandas7_df = queried7_df.select('sequence_id','animal_id').toPandas()"
   ]
  },
  {
   "cell_type": "code",
   "execution_count": null,
   "metadata": {},
   "outputs": [],
   "source": [
    "pandas4_df = pandas.concat([pandas47_df,pandas48_df,pandas49_df])\n",
    "pandas5_df = pandas.concat([pandas57_df,pandas58_df,pandas59_df])"
   ]
  },
  {
   "cell_type": "markdown",
   "metadata": {},
   "source": [
    "Print out the number of IgM sequences from all animals  "
   ]
  },
  {
   "cell_type": "code",
   "execution_count": null,
   "metadata": {
    "collapsed": true,
    "execution": {
     "iopub.execute_input": "2023-06-20T23:42:28.680257Z",
     "iopub.status.busy": "2023-06-20T23:42:28.679936Z",
     "iopub.status.idle": "2023-06-20T23:42:28.734638Z",
     "shell.execute_reply": "2023-06-20T23:42:28.732857Z",
     "shell.execute_reply.started": "2023-06-20T23:42:28.680230Z"
    },
    "jupyter": {
     "outputs_hidden": true
    },
    "tags": []
   },
   "outputs": [],
   "source": [
    "counts = pandas0_df.groupby('animal_id').count().rename({'sequence_id':'count'},axis=1).sort_values('count')\n",
    "pandas.set_option('display.max_rows', None)  \n",
    "print(counts)"
   ]
  },
  {
   "cell_type": "markdown",
   "metadata": {},
   "source": [
    "Print out the number of IgM sequences from all animals in search 1: ≥22"
   ]
  },
  {
   "cell_type": "code",
   "execution_count": null,
   "metadata": {},
   "outputs": [],
   "source": [
    "counts = pandas1_df.groupby('animal_id').count().rename({'sequence_id':'count'},axis=1).sort_values('count')\n",
    "pandas.set_option('display.max_rows', None)  \n",
    "print(counts)"
   ]
  },
  {
   "cell_type": "markdown",
   "metadata": {},
   "source": [
    "Print out the number of IgM sequences from all animals in search 2: ≥22, D3-3"
   ]
  },
  {
   "cell_type": "code",
   "execution_count": null,
   "metadata": {},
   "outputs": [],
   "source": [
    "counts = pandas2_df.groupby('animal_id').count().rename({'sequence_id':'count'},axis=1).sort_values('count')\n",
    "pandas.set_option('display.max_rows', None)  \n",
    "print(counts)"
   ]
  },
  {
   "cell_type": "markdown",
   "metadata": {},
   "source": [
    "Print out the number of IgM sequences from all animals in search 3: ≥22, D3-3, FGV anywhere"
   ]
  },
  {
   "cell_type": "code",
   "execution_count": null,
   "metadata": {},
   "outputs": [],
   "source": [
    "counts = pandas3_df.groupby('animal_id').count().rename({'sequence_id':'count'},axis=1).sort_values('count')\n",
    "pandas.set_option('display.max_rows', None)  \n",
    "print(counts)"
   ]
  },
  {
   "cell_type": "markdown",
   "metadata": {},
   "source": [
    "Print out the number of IgM sequences from all animals in search 4: ≥22, D3-3, FGV starting at position 7, 8, 9"
   ]
  },
  {
   "cell_type": "code",
   "execution_count": null,
   "metadata": {},
   "outputs": [],
   "source": [
    "counts = pandas4_df.groupby('animal_id').count().rename({'sequence_id':'count'},axis=1).sort_values('count')\n",
    "pandas.set_option('display.max_rows', None)  \n",
    "print(counts)"
   ]
  },
  {
   "cell_type": "markdown",
   "metadata": {},
   "source": [
    "Print out the number of IgM sequences from all animals in search 5: ≥22, D3-3, FGV starting at position 7, 8, 9, E at position 7 past FGV (example:.......FGV....E)"
   ]
  },
  {
   "cell_type": "code",
   "execution_count": null,
   "metadata": {},
   "outputs": [],
   "source": [
    "counts = pandas5_df.groupby('animal_id').count().rename({'sequence_id':'count'},axis=1).sort_values('count')\n",
    "pandas.set_option('display.max_rows', None)  \n",
    "print(counts)"
   ]
  },
  {
   "cell_type": "markdown",
   "metadata": {},
   "source": [
    "Print out the number of IgM sequences from all animals in search 6: ≥22, D3-3, FGV anywhere, E at position 7 past FGV (example:.......FGV....E)"
   ]
  },
  {
   "cell_type": "code",
   "execution_count": null,
   "metadata": {
    "collapsed": true,
    "execution": {
     "iopub.execute_input": "2023-06-20T23:43:48.706371Z",
     "iopub.status.busy": "2023-06-20T23:43:48.706057Z",
     "iopub.status.idle": "2023-06-20T23:43:48.766656Z",
     "shell.execute_reply": "2023-06-20T23:43:48.765936Z",
     "shell.execute_reply.started": "2023-06-20T23:43:48.706344Z"
    },
    "jupyter": {
     "outputs_hidden": true
    },
    "tags": []
   },
   "outputs": [],
   "source": [
    "counts = pandas6_df.groupby('animal_id').count().rename({'sequence_id':'count'},axis=1).sort_values('count')\n",
    "pandas.set_option('display.max_rows', None)  \n",
    "print(counts)"
   ]
  },
  {
   "cell_type": "markdown",
   "metadata": {},
   "source": [
    "Print out the number of IgM sequences from all animals in search 7: D3-3"
   ]
  },
  {
   "cell_type": "code",
   "execution_count": null,
   "metadata": {
    "collapsed": true,
    "execution": {
     "iopub.execute_input": "2023-06-20T23:43:48.706371Z",
     "iopub.status.busy": "2023-06-20T23:43:48.706057Z",
     "iopub.status.idle": "2023-06-20T23:43:48.766656Z",
     "shell.execute_reply": "2023-06-20T23:43:48.765936Z",
     "shell.execute_reply.started": "2023-06-20T23:43:48.706344Z"
    },
    "jupyter": {
     "outputs_hidden": true
    },
    "tags": []
   },
   "outputs": [],
   "source": [
    "counts = pandas7_df.groupby('animal_id').count().rename({'sequence_id':'count'},axis=1).sort_values('count')\n",
    "pandas.set_option('display.max_rows', None)  \n",
    "print(counts)"
   ]
  },
  {
   "cell_type": "markdown",
   "metadata": {},
   "source": [
    "## These cells search for precursors and calculate the precursor frequencies of RPz18, RGp18, RPb18, and REt18 only.\n",
    "The dataset of animals RPz18, RGp18, RPb18, and REt18, only IgMs were sorted and sequenced, and some of their c_call reads were incomplete and therefore not reliable.\n",
    "\n",
    "To address this issue, we used this cell to analyze precursor frequencies of these four animals separately from the previous cells."
   ]
  },
  {
   "cell_type": "code",
   "execution_count": null,
   "metadata": {
    "execution": {
     "iopub.execute_input": "2023-06-20T23:24:08.732571Z",
     "iopub.status.busy": "2023-06-20T23:24:08.732231Z",
     "iopub.status.idle": "2023-06-20T23:24:44.131174Z",
     "shell.execute_reply": "2023-06-20T23:24:44.130333Z",
     "shell.execute_reply.started": "2023-06-20T23:24:08.732544Z"
    },
    "tags": []
   },
   "outputs": [],
   "source": [
    "my_query_0 = Query('BG18_search.0',length=1,file_name=r'_Functional')\n",
    "my_query_1 = Query('BG18_search.1',length=21,file_name=r'_Functional')\n",
    "my_query_2 = Query('BG18_search.2',d_call_top=r'IGHD3-41',length=21,file_name=r'_Functional')\n",
    "my_query_3 = Query('BG18_search.3',d_call_top=r'IGHD3-41',length=21,regex=r'IFG[VL]',file_name=r'_Functional')\n",
    "my_query_4_7 = Query('BG18_search.4.7',d_call_top=r'IGHD3-41',length=21,regex=r'^.....IFG[VL]',file_name=r'_Functional')\n",
    "my_query_4_8 = Query('BG18_search.4.8',d_call_top=r'IGHD3-41',length=21,regex=r'^......IFG[VL]',file_name=r'_Functional')\n",
    "my_query_4_9 = Query('BG18_search.4.9',d_call_top=r'IGHD3-41',length=21,regex=r'^.......IFG[VL]',file_name=r'_Functional')\n",
    "my_query_5_7 = Query('BG18_search.5.7',d_call_top=r'IGHD3-41',length=21,regex=r'^.....IFG[VL]....E',file_name=r'_Functional')\n",
    "my_query_5_8 = Query('BG18_search.5.8',d_call_top=r'IGHD3-41',length=21,regex=r'^......IFG[VL]....E',file_name=r'_Functional')\n",
    "my_query_5_9 = Query('BG18_search.5.9',d_call_top=r'IGHD3-41',length=21,regex=r'^.......IFG[VL]....E',file_name=r'_Functional')\n",
    "my_query_6 = Query('BG18_search.6',d_call_top=r'IGHD3-41',length=21, regex=r'IFG[VL]....E',file_name=r'_Functional')\n",
    "my_query_7 = Query('BG18_search.7',d_call_top=r'IGHD3-41',length=1,file_name=r'_Functional')\n",
    "\n",
    "#To run query, pass the input object from above to apply\n",
    "\n",
    "queried0_df = my_query_0.apply(df_spark)\n",
    "queried1_df = my_query_1.apply(df_spark)\n",
    "queried2_df = my_query_2.apply(df_spark)\n",
    "queried3_df = my_query_3.apply(df_spark)\n",
    "queried4_7_df = my_query_4_7.apply(df_spark)\n",
    "queried4_8_df = my_query_4_8.apply(df_spark)\n",
    "queried4_9_df = my_query_4_9.apply(df_spark)\n",
    "queried5_7_df = my_query_5_7.apply(df_spark)\n",
    "queried5_8_df = my_query_5_8.apply(df_spark)\n",
    "queried5_9_df = my_query_5_9.apply(df_spark)\n",
    "queried6_df = my_query_6.apply(df_spark)\n",
    "queried7_df = my_query_7.apply(df_spark)"
   ]
  },
  {
   "cell_type": "code",
   "execution_count": null,
   "metadata": {
    "execution": {
     "iopub.execute_input": "2023-05-31T04:38:11.605360Z",
     "iopub.status.busy": "2023-05-31T04:38:11.605040Z"
    },
    "tags": []
   },
   "outputs": [],
   "source": [
    "pandas0_df = queried0_df.select('sequence_id','animal_id').toPandas()\n",
    "pandas1_df = queried1_df.select('sequence_id','animal_id').toPandas()\n",
    "pandas2_df = queried2_df.select('sequence_id','animal_id').toPandas()\n",
    "pandas3_df = queried3_df.select('sequence_id','animal_id').toPandas()\n",
    "pandas47_df = queried4_7_df.select('sequence_id','animal_id').toPandas()\n",
    "pandas48_df = queried4_8_df.select('sequence_id','animal_id').toPandas()\n",
    "pandas49_df = queried4_9_df.select('sequence_id','animal_id').toPandas()\n",
    "pandas57_df = queried5_7_df.select('sequence_id','animal_id').toPandas()\n",
    "pandas58_df = queried5_8_df.select('sequence_id','animal_id').toPandas()\n",
    "pandas59_df = queried5_9_df.select('sequence_id','animal_id').toPandas()\n",
    "pandas6_df = queried6_df.select('sequence_id','animal_id').toPandas()\n",
    "pandas7_df = queried7_df.select('sequence_id','animal_id').toPandas()"
   ]
  },
  {
   "cell_type": "code",
   "execution_count": null,
   "metadata": {},
   "outputs": [],
   "source": [
    "pandas4_df = pandas.concat([pandas47_df,pandas48_df,pandas49_df])\n",
    "pandas5_df = pandas.concat([pandas57_df,pandas58_df,pandas59_df])"
   ]
  },
  {
   "cell_type": "markdown",
   "metadata": {},
   "source": [
    "Print out the number of IgM sequences from all animals  "
   ]
  },
  {
   "cell_type": "code",
   "execution_count": null,
   "metadata": {
    "collapsed": true,
    "execution": {
     "iopub.execute_input": "2023-06-20T23:42:28.680257Z",
     "iopub.status.busy": "2023-06-20T23:42:28.679936Z",
     "iopub.status.idle": "2023-06-20T23:42:28.734638Z",
     "shell.execute_reply": "2023-06-20T23:42:28.732857Z",
     "shell.execute_reply.started": "2023-06-20T23:42:28.680230Z"
    },
    "jupyter": {
     "outputs_hidden": true
    },
    "tags": []
   },
   "outputs": [],
   "source": [
    "counts = pandas0_df.groupby('animal_id').count().rename({'sequence_id':'count'},axis=1).sort_values('count')\n",
    "pandas.set_option('display.max_rows', None)  \n",
    "print(counts)"
   ]
  },
  {
   "cell_type": "markdown",
   "metadata": {},
   "source": [
    "Print out the number of IgM sequences from all animals in search 1: ≥22"
   ]
  },
  {
   "cell_type": "code",
   "execution_count": null,
   "metadata": {},
   "outputs": [],
   "source": [
    "counts = pandas1_df.groupby('animal_id').count().rename({'sequence_id':'count'},axis=1).sort_values('count')\n",
    "pandas.set_option('display.max_rows', None)  \n",
    "print(counts)"
   ]
  },
  {
   "cell_type": "markdown",
   "metadata": {},
   "source": [
    "Print out the number of IgM sequences from all animals in search 2: ≥22, D3-3"
   ]
  },
  {
   "cell_type": "code",
   "execution_count": null,
   "metadata": {},
   "outputs": [],
   "source": [
    "counts = pandas2_df.groupby('animal_id').count().rename({'sequence_id':'count'},axis=1).sort_values('count')\n",
    "pandas.set_option('display.max_rows', None)  \n",
    "print(counts)"
   ]
  },
  {
   "cell_type": "markdown",
   "metadata": {},
   "source": [
    "Print out the number of IgM sequences from all animals in search 3: ≥22, D3-3, FGV anywhere"
   ]
  },
  {
   "cell_type": "code",
   "execution_count": null,
   "metadata": {},
   "outputs": [],
   "source": [
    "counts = pandas3_df.groupby('animal_id').count().rename({'sequence_id':'count'},axis=1).sort_values('count')\n",
    "pandas.set_option('display.max_rows', None)  \n",
    "print(counts)"
   ]
  },
  {
   "cell_type": "markdown",
   "metadata": {},
   "source": [
    "Print out the number of IgM sequences from all animals in search 4: ≥22, D3-3, FGV starting at position 7, 8, 9"
   ]
  },
  {
   "cell_type": "code",
   "execution_count": null,
   "metadata": {},
   "outputs": [],
   "source": [
    "counts = pandas4_df.groupby('animal_id').count().rename({'sequence_id':'count'},axis=1).sort_values('count')\n",
    "pandas.set_option('display.max_rows', None)  \n",
    "print(counts)"
   ]
  },
  {
   "cell_type": "markdown",
   "metadata": {},
   "source": [
    "Print out the number of IgM sequences from all animals in search 5: ≥22, D3-3, FGV starting at position 7, 8, 9, E at position 7 past FGV (example:.......FGV....E)"
   ]
  },
  {
   "cell_type": "code",
   "execution_count": null,
   "metadata": {},
   "outputs": [],
   "source": [
    "counts = pandas5_df.groupby('animal_id').count().rename({'sequence_id':'count'},axis=1).sort_values('count')\n",
    "pandas.set_option('display.max_rows', None)  \n",
    "print(counts)"
   ]
  },
  {
   "cell_type": "markdown",
   "metadata": {},
   "source": [
    "Print out the number of IgM sequences from all animals in search 6: ≥22, D3-3, FGV anywhere, E at position 7 past FGV (example:.......FGV....E)"
   ]
  },
  {
   "cell_type": "code",
   "execution_count": null,
   "metadata": {
    "collapsed": true,
    "execution": {
     "iopub.execute_input": "2023-06-20T23:43:48.706371Z",
     "iopub.status.busy": "2023-06-20T23:43:48.706057Z",
     "iopub.status.idle": "2023-06-20T23:43:48.766656Z",
     "shell.execute_reply": "2023-06-20T23:43:48.765936Z",
     "shell.execute_reply.started": "2023-06-20T23:43:48.706344Z"
    },
    "jupyter": {
     "outputs_hidden": true
    },
    "tags": []
   },
   "outputs": [],
   "source": [
    "counts = pandas6_df.groupby('animal_id').count().rename({'sequence_id':'count'},axis=1).sort_values('count')\n",
    "pandas.set_option('display.max_rows', None)  \n",
    "print(counts)"
   ]
  },
  {
   "cell_type": "markdown",
   "metadata": {},
   "source": [
    "Print out the number of IgM sequences from all animals in search 7: D3-3"
   ]
  },
  {
   "cell_type": "code",
   "execution_count": null,
   "metadata": {
    "collapsed": true,
    "execution": {
     "iopub.execute_input": "2023-06-20T23:43:48.706371Z",
     "iopub.status.busy": "2023-06-20T23:43:48.706057Z",
     "iopub.status.idle": "2023-06-20T23:43:48.766656Z",
     "shell.execute_reply": "2023-06-20T23:43:48.765936Z",
     "shell.execute_reply.started": "2023-06-20T23:43:48.706344Z"
    },
    "jupyter": {
     "outputs_hidden": true
    },
    "tags": []
   },
   "outputs": [],
   "source": [
    "counts = pandas7_df.groupby('animal_id').count().rename({'sequence_id':'count'},axis=1).sort_values('count')\n",
    "pandas.set_option('display.max_rows', None)  \n",
    "print(counts)"
   ]
  }
 ],
 "metadata": {
  "kernelspec": {
   "display_name": "Python 3",
   "language": "python",
   "name": "python3"
  },
  "language_info": {
   "codemirror_mode": {
    "name": "ipython",
    "version": 3
   },
   "file_extension": ".py",
   "mimetype": "text/x-python",
   "name": "python",
   "nbconvert_exporter": "python",
   "pygments_lexer": "ipython3",
   "version": "3.7.0"
  }
 },
 "nbformat": 4,
 "nbformat_minor": 4
}
